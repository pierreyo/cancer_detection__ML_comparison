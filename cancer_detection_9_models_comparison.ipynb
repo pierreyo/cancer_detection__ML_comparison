{
  "nbformat": 4,
  "nbformat_minor": 0,
  "metadata": {
    "colab": {
      "provenance": [],
      "authorship_tag": "ABX9TyP5oGlDlDkDNF/BDvur70UM",
      "include_colab_link": true
    },
    "kernelspec": {
      "name": "python3",
      "display_name": "Python 3"
    },
    "language_info": {
      "name": "python"
    }
  },
  "cells": [
    {
      "cell_type": "markdown",
      "metadata": {
        "id": "view-in-github",
        "colab_type": "text"
      },
      "source": [
        "<a href=\"https://colab.research.google.com/github/pierreyo/cancer_detection__ML_comparison/blob/main/cancer_detection_9_models_comparison.ipynb\" target=\"_parent\"><img src=\"https://colab.research.google.com/assets/colab-badge.svg\" alt=\"Open In Colab\"/></a>"
      ]
    },
    {
      "cell_type": "code",
      "execution_count": null,
      "metadata": {
        "id": "HVTcPYCuUgkZ"
      },
      "outputs": [],
      "source": [
        "import numpy as np\n",
        "import pandas as pd\n",
        "import matplotlib.pyplot as plt\n",
        "from sklearn.ensemble import RandomForestClassifier\n",
        "from sklearn.model_selection import train_test_split\n",
        "from sklearn.datasets import make_classification\n",
        "from sklearn import tree\n",
        "from sklearn.datasets import load_breast_cancer\n",
        "from time import time\n",
        "from sklearn.metrics import precision_score\n",
        "from sklearn.metrics import f1_score\n",
        "import time\n",
        "from datetime import timedelta\n",
        "from sklearn.metrics import accuracy_score\n",
        "from sklearn.metrics import recall_score\n",
        "from sklearn.linear_model import LogisticRegression\n",
        "from sklearn.preprocessing import LabelEncoder\n",
        "from sklearn.neighbors import KNeighborsClassifier"
      ]
    },
    {
      "cell_type": "code",
      "source": [
        "df = pd.read_csv('/content/KNNAlgorithmDataset.csv')\n",
        "output= df.iloc[:,1]\n",
        "xnull= df.iloc[:,2:]\n",
        "from sklearn.impute import SimpleImputer\n",
        "\n",
        "# Initialize the imputer\n",
        "imputer = SimpleImputer(strategy='mean')\n",
        "\n",
        "# Impute missing values\n",
        "x = imputer.fit_transform(xnull)\n",
        "label_encoder = LabelEncoder()\n",
        "y = label_encoder.fit_transform(output)\n"
      ],
      "metadata": {
        "id": "2EncaVa1Uz9C"
      },
      "execution_count": null,
      "outputs": []
    },
    {
      "cell_type": "code",
      "source": [
        "x"
      ],
      "metadata": {
        "colab": {
          "base_uri": "https://localhost:8080/"
        },
        "id": "AHkOIrOdWI0Z",
        "outputId": "34bc2e29-dbf1-4c40-faec-50c12d43ca32"
      },
      "execution_count": null,
      "outputs": [
        {
          "output_type": "execute_result",
          "data": {
            "text/plain": [
              "array([[1.799e+01, 1.038e+01, 1.228e+02, ..., 2.654e-01, 4.601e-01,\n",
              "        1.189e-01],\n",
              "       [2.057e+01, 1.777e+01, 1.329e+02, ..., 1.860e-01, 2.750e-01,\n",
              "        8.902e-02],\n",
              "       [1.969e+01, 2.125e+01, 1.300e+02, ..., 2.430e-01, 3.613e-01,\n",
              "        8.758e-02],\n",
              "       ...,\n",
              "       [1.660e+01, 2.808e+01, 1.083e+02, ..., 1.418e-01, 2.218e-01,\n",
              "        7.820e-02],\n",
              "       [2.060e+01, 2.933e+01, 1.401e+02, ..., 2.650e-01, 4.087e-01,\n",
              "        1.240e-01],\n",
              "       [7.760e+00, 2.454e+01, 4.792e+01, ..., 0.000e+00, 2.871e-01,\n",
              "        7.039e-02]])"
            ]
          },
          "metadata": {},
          "execution_count": 97
        }
      ]
    },
    {
      "cell_type": "code",
      "source": [
        "y"
      ],
      "metadata": {
        "colab": {
          "base_uri": "https://localhost:8080/"
        },
        "id": "7k9xdHoSn2S6",
        "outputId": "51df5393-7c58-490e-e9d1-56b99f68243e"
      },
      "execution_count": null,
      "outputs": [
        {
          "output_type": "execute_result",
          "data": {
            "text/plain": [
              "array([1, 1, 1, 1, 1, 1, 1, 1, 1, 1, 1, 1, 1, 1, 1, 1, 1, 1, 1, 0, 0, 0,\n",
              "       1, 1, 1, 1, 1, 1, 1, 1, 1, 1, 1, 1, 1, 1, 1, 0, 1, 1, 1, 1, 1, 1,\n",
              "       1, 1, 0, 1, 0, 0, 0, 0, 0, 1, 1, 0, 1, 1, 0, 0, 0, 0, 1, 0, 1, 1,\n",
              "       0, 0, 0, 0, 1, 0, 1, 1, 0, 1, 0, 1, 1, 0, 0, 0, 1, 1, 0, 1, 1, 1,\n",
              "       0, 0, 0, 1, 0, 0, 1, 1, 0, 0, 0, 1, 1, 0, 0, 0, 0, 1, 0, 0, 1, 0,\n",
              "       0, 0, 0, 0, 0, 0, 0, 1, 1, 1, 0, 1, 1, 0, 0, 0, 1, 1, 0, 1, 0, 1,\n",
              "       1, 0, 1, 1, 0, 0, 1, 0, 0, 1, 0, 0, 0, 0, 1, 0, 0, 0, 0, 0, 0, 0,\n",
              "       0, 0, 1, 0, 0, 0, 0, 1, 1, 0, 1, 0, 0, 1, 1, 0, 0, 1, 1, 0, 0, 0,\n",
              "       0, 1, 0, 0, 1, 1, 1, 0, 1, 0, 1, 0, 0, 0, 1, 0, 0, 1, 1, 0, 1, 1,\n",
              "       1, 1, 0, 1, 1, 1, 0, 1, 0, 1, 0, 0, 1, 0, 1, 1, 1, 1, 0, 0, 1, 1,\n",
              "       0, 0, 0, 1, 0, 0, 0, 0, 0, 1, 1, 0, 0, 1, 0, 0, 1, 1, 0, 1, 0, 0,\n",
              "       0, 0, 1, 0, 0, 0, 0, 0, 1, 0, 1, 1, 1, 1, 1, 1, 1, 1, 1, 1, 1, 1,\n",
              "       1, 1, 0, 0, 0, 0, 0, 0, 1, 0, 1, 0, 0, 1, 0, 0, 1, 0, 1, 1, 0, 0,\n",
              "       0, 0, 0, 0, 0, 0, 0, 0, 0, 0, 0, 1, 0, 0, 1, 0, 1, 0, 0, 0, 0, 0,\n",
              "       0, 0, 0, 0, 0, 0, 0, 0, 0, 1, 0, 0, 0, 1, 0, 1, 0, 0, 0, 0, 1, 1,\n",
              "       1, 0, 0, 0, 0, 1, 0, 1, 0, 1, 0, 0, 0, 1, 0, 0, 0, 0, 0, 0, 0, 1,\n",
              "       1, 1, 0, 0, 0, 0, 0, 0, 0, 0, 0, 0, 0, 1, 1, 0, 1, 1, 1, 0, 1, 1,\n",
              "       0, 0, 0, 0, 0, 1, 0, 0, 0, 0, 0, 1, 0, 0, 0, 1, 0, 0, 1, 1, 0, 0,\n",
              "       0, 0, 0, 0, 1, 0, 0, 0, 0, 0, 0, 0, 1, 0, 0, 0, 0, 0, 1, 0, 0, 1,\n",
              "       0, 0, 0, 0, 0, 0, 0, 0, 0, 0, 0, 0, 1, 0, 1, 1, 0, 1, 0, 0, 0, 0,\n",
              "       0, 1, 0, 0, 1, 0, 1, 0, 0, 1, 0, 1, 0, 0, 0, 0, 0, 0, 0, 0, 1, 1,\n",
              "       0, 0, 0, 0, 0, 0, 1, 0, 0, 0, 0, 0, 0, 0, 0, 0, 0, 1, 0, 0, 0, 0,\n",
              "       0, 0, 0, 1, 0, 1, 0, 0, 1, 0, 0, 0, 0, 0, 1, 1, 0, 1, 0, 1, 0, 0,\n",
              "       0, 0, 0, 1, 0, 0, 1, 0, 1, 0, 1, 1, 0, 0, 0, 1, 0, 0, 0, 0, 0, 0,\n",
              "       0, 0, 0, 0, 0, 1, 0, 1, 1, 0, 0, 0, 0, 0, 0, 0, 0, 0, 0, 0, 0, 0,\n",
              "       0, 0, 0, 0, 0, 0, 0, 0, 0, 0, 0, 0, 1, 1, 1, 1, 1, 1, 0])"
            ]
          },
          "metadata": {},
          "execution_count": 98
        }
      ]
    },
    {
      "cell_type": "code",
      "source": [
        "train_x,test_x,train_y,test_y=train_test_split(x,y,test_size=0.25 ,random_state=10 )"
      ],
      "metadata": {
        "id": "9R3n8EW2WMR6"
      },
      "execution_count": null,
      "outputs": []
    },
    {
      "cell_type": "markdown",
      "source": [
        "random forest"
      ],
      "metadata": {
        "id": "aivKtDX6gIbW"
      }
    },
    {
      "cell_type": "code",
      "source": [
        "model1= RandomForestClassifier(n_estimators=5, max_depth=5, random_state=0)\n",
        "start_time = time.monotonic()\n",
        "model1= model1.fit(train_x,train_y)\n",
        "end_time = time.monotonic()\n",
        "time1= timedelta(seconds=end_time - start_time)\n",
        "print(timedelta(seconds=end_time - start_time))"
      ],
      "metadata": {
        "id": "JHAxNWNbarZq",
        "colab": {
          "base_uri": "https://localhost:8080/"
        },
        "outputId": "dff64282-0fa7-4bd0-98b0-a60209a47cf1"
      },
      "execution_count": null,
      "outputs": [
        {
          "output_type": "stream",
          "name": "stdout",
          "text": [
            "0:00:00.020318\n"
          ]
        }
      ]
    },
    {
      "cell_type": "code",
      "source": [
        "y_pred1=model1.predict(test_x)\n",
        "y_pred11=model1.predict(train_x)"
      ],
      "metadata": {
        "id": "4TA3s9EAbVEH"
      },
      "execution_count": null,
      "outputs": []
    },
    {
      "cell_type": "code",
      "source": [
        "\n",
        "accuracy_score(test_y,y_pred1)"
      ],
      "metadata": {
        "colab": {
          "base_uri": "https://localhost:8080/"
        },
        "id": "YNmB5-4RbjHf",
        "outputId": "c5bf0592-59a5-498d-d781-dcd202e11b68"
      },
      "execution_count": null,
      "outputs": [
        {
          "output_type": "execute_result",
          "data": {
            "text/plain": [
              "0.951048951048951"
            ]
          },
          "metadata": {},
          "execution_count": 102
        }
      ]
    },
    {
      "cell_type": "code",
      "source": [
        "\n",
        "accuracy_score(train_y,y_pred11)"
      ],
      "metadata": {
        "colab": {
          "base_uri": "https://localhost:8080/"
        },
        "id": "UH9QyHSIfLBO",
        "outputId": "19156127-5376-40e0-c70d-faabd27bf7f7"
      },
      "execution_count": null,
      "outputs": [
        {
          "output_type": "execute_result",
          "data": {
            "text/plain": [
              "0.9859154929577465"
            ]
          },
          "metadata": {},
          "execution_count": 103
        }
      ]
    },
    {
      "cell_type": "code",
      "source": [
        "\n",
        "recall1 = recall_score(test_y,y_pred1)\n",
        "print(\"recall:\", recall1)"
      ],
      "metadata": {
        "colab": {
          "base_uri": "https://localhost:8080/"
        },
        "id": "51ssfF8d8VWK",
        "outputId": "6b9a7775-4e2c-4b6e-e120-9a916c6961de"
      },
      "execution_count": null,
      "outputs": [
        {
          "output_type": "stream",
          "name": "stdout",
          "text": [
            "recall: 0.9423076923076923\n"
          ]
        }
      ]
    },
    {
      "cell_type": "markdown",
      "source": [
        "decision tree"
      ],
      "metadata": {
        "id": "65yCitIfgQjH"
      }
    },
    {
      "cell_type": "code",
      "source": [
        "\n",
        "model2= tree.DecisionTreeClassifier()\n",
        "start_time = time.monotonic()\n",
        "model2= model2.fit(train_x,train_y)\n",
        "end_time = time.monotonic()\n",
        "time2= timedelta(seconds=end_time - start_time)\n",
        "print(timedelta(seconds=end_time - start_time))"
      ],
      "metadata": {
        "id": "AnePR3cpbsqf",
        "colab": {
          "base_uri": "https://localhost:8080/"
        },
        "outputId": "936f8cba-e191-4d32-b0a7-dd9b2059f9a0"
      },
      "execution_count": null,
      "outputs": [
        {
          "output_type": "stream",
          "name": "stdout",
          "text": [
            "0:00:00.010129\n"
          ]
        }
      ]
    },
    {
      "cell_type": "code",
      "source": [
        "y_pred2=model2.predict(test_x)\n",
        "y_pred22=model2.predict(train_x)\n"
      ],
      "metadata": {
        "id": "nu1qpD6xcAnY"
      },
      "execution_count": null,
      "outputs": []
    },
    {
      "cell_type": "code",
      "source": [
        "\n",
        "accuracy_score(test_y,y_pred2)\n"
      ],
      "metadata": {
        "colab": {
          "base_uri": "https://localhost:8080/"
        },
        "id": "LGmkuvmpcH_m",
        "outputId": "233c798f-3c14-4573-f00e-b99c5237d245"
      },
      "execution_count": null,
      "outputs": [
        {
          "output_type": "execute_result",
          "data": {
            "text/plain": [
              "0.9230769230769231"
            ]
          },
          "metadata": {},
          "execution_count": 107
        }
      ]
    },
    {
      "cell_type": "code",
      "source": [
        "\n",
        "accuracy_score(train_y,y_pred22)\n"
      ],
      "metadata": {
        "colab": {
          "base_uri": "https://localhost:8080/"
        },
        "id": "idXrdU6Wffg2",
        "outputId": "e0eaaa4e-6989-4e07-9065-1d3f6f69a000"
      },
      "execution_count": null,
      "outputs": [
        {
          "output_type": "execute_result",
          "data": {
            "text/plain": [
              "1.0"
            ]
          },
          "metadata": {},
          "execution_count": 108
        }
      ]
    },
    {
      "cell_type": "code",
      "source": [
        "\n",
        "recall2 = recall_score(test_y,y_pred2)\n",
        "print(\"recall:\", recall2)"
      ],
      "metadata": {
        "colab": {
          "base_uri": "https://localhost:8080/"
        },
        "id": "3djy08Yk8ZcA",
        "outputId": "f097c552-1689-4f9d-b34d-66dcd33646e5"
      },
      "execution_count": null,
      "outputs": [
        {
          "output_type": "stream",
          "name": "stdout",
          "text": [
            "recall: 0.9423076923076923\n"
          ]
        }
      ]
    },
    {
      "cell_type": "markdown",
      "source": [
        "logistic reg"
      ],
      "metadata": {
        "id": "TAFxsRvUgYdu"
      }
    },
    {
      "cell_type": "code",
      "source": [
        "start_time = time.monotonic()\n",
        "model3= LogisticRegression(random_state=0).fit(train_x,train_y)\n",
        "end_time = time.monotonic()\n",
        "time3= timedelta(seconds=end_time - start_time)\n",
        "print(timedelta(seconds=end_time - start_time))"
      ],
      "metadata": {
        "colab": {
          "base_uri": "https://localhost:8080/"
        },
        "id": "uQtGl4MkcO-3",
        "outputId": "1443df87-2501-46f9-8adf-a0b9cf1eb4e2"
      },
      "execution_count": null,
      "outputs": [
        {
          "output_type": "stream",
          "name": "stdout",
          "text": [
            "0:00:00.062860\n"
          ]
        },
        {
          "output_type": "stream",
          "name": "stderr",
          "text": [
            "/usr/local/lib/python3.10/dist-packages/sklearn/linear_model/_logistic.py:458: ConvergenceWarning: lbfgs failed to converge (status=1):\n",
            "STOP: TOTAL NO. of ITERATIONS REACHED LIMIT.\n",
            "\n",
            "Increase the number of iterations (max_iter) or scale the data as shown in:\n",
            "    https://scikit-learn.org/stable/modules/preprocessing.html\n",
            "Please also refer to the documentation for alternative solver options:\n",
            "    https://scikit-learn.org/stable/modules/linear_model.html#logistic-regression\n",
            "  n_iter_i = _check_optimize_result(\n"
          ]
        }
      ]
    },
    {
      "cell_type": "code",
      "source": [
        "y_pred3=model3.predict(test_x)\n",
        "y_pred33=model3.predict(train_x)"
      ],
      "metadata": {
        "id": "VeGsd2Q2clrR"
      },
      "execution_count": null,
      "outputs": []
    },
    {
      "cell_type": "code",
      "source": [
        "\n",
        "accuracy_score(test_y,y_pred3)"
      ],
      "metadata": {
        "colab": {
          "base_uri": "https://localhost:8080/"
        },
        "id": "8G2aLfmpcxsX",
        "outputId": "ca5a3b80-7290-4317-9a39-776b8142c2fe"
      },
      "execution_count": null,
      "outputs": [
        {
          "output_type": "execute_result",
          "data": {
            "text/plain": [
              "0.9300699300699301"
            ]
          },
          "metadata": {},
          "execution_count": 112
        }
      ]
    },
    {
      "cell_type": "code",
      "source": [
        "\n",
        "accuracy_score(train_y,y_pred33)"
      ],
      "metadata": {
        "colab": {
          "base_uri": "https://localhost:8080/"
        },
        "id": "gySNxLROfpN-",
        "outputId": "be2824f8-44ef-4dfa-efc9-e60ed336168b"
      },
      "execution_count": null,
      "outputs": [
        {
          "output_type": "execute_result",
          "data": {
            "text/plain": [
              "0.9507042253521126"
            ]
          },
          "metadata": {},
          "execution_count": 113
        }
      ]
    },
    {
      "cell_type": "code",
      "source": [
        "\n",
        "recall3 = recall_score(test_y,y_pred3)\n",
        "print(\"recall:\", recall3)"
      ],
      "metadata": {
        "colab": {
          "base_uri": "https://localhost:8080/"
        },
        "id": "7O1ujELV8dJ5",
        "outputId": "c8ead5fd-3346-4efd-8d77-1da0b6c8b113"
      },
      "execution_count": null,
      "outputs": [
        {
          "output_type": "stream",
          "name": "stdout",
          "text": [
            "recall: 0.9230769230769231\n"
          ]
        }
      ]
    },
    {
      "cell_type": "markdown",
      "source": [
        "boosting"
      ],
      "metadata": {
        "id": "bzhs29iLgfc2"
      }
    },
    {
      "cell_type": "code",
      "source": [
        "from sklearn.ensemble import GradientBoostingClassifier\n",
        "model4= GradientBoostingClassifier(max_depth=5,n_estimators=5)\n",
        "start_time = time.monotonic()\n",
        "model4= model4.fit(train_x,train_y)\n",
        "end_time = time.monotonic()\n",
        "time4= timedelta(seconds=end_time - start_time)\n",
        "print(timedelta(seconds=end_time - start_time))"
      ],
      "metadata": {
        "id": "5yev_tiMc1DP",
        "colab": {
          "base_uri": "https://localhost:8080/"
        },
        "outputId": "efbc0cc7-6e19-4ac7-9d78-939a4e017c84"
      },
      "execution_count": null,
      "outputs": [
        {
          "output_type": "stream",
          "name": "stdout",
          "text": [
            "0:00:00.063923\n"
          ]
        }
      ]
    },
    {
      "cell_type": "code",
      "source": [
        "y_pred4=model4.predict(test_x)\n",
        "y_pred44=model4.predict(train_x)"
      ],
      "metadata": {
        "id": "8Y6rGokNeEY4"
      },
      "execution_count": null,
      "outputs": []
    },
    {
      "cell_type": "code",
      "source": [
        "\n",
        "accuracy_score(test_y,y_pred4)"
      ],
      "metadata": {
        "colab": {
          "base_uri": "https://localhost:8080/"
        },
        "id": "jdoMBunkeJ3p",
        "outputId": "55ef8032-7c7f-4648-af94-a09b4d168d58"
      },
      "execution_count": null,
      "outputs": [
        {
          "output_type": "execute_result",
          "data": {
            "text/plain": [
              "0.951048951048951"
            ]
          },
          "metadata": {},
          "execution_count": 117
        }
      ]
    },
    {
      "cell_type": "code",
      "source": [
        "\n",
        "accuracy_score(train_y,y_pred44)"
      ],
      "metadata": {
        "colab": {
          "base_uri": "https://localhost:8080/"
        },
        "id": "bZ8-4Hzaf7Xe",
        "outputId": "001962da-313c-470c-878e-81e8c5bcb368"
      },
      "execution_count": null,
      "outputs": [
        {
          "output_type": "execute_result",
          "data": {
            "text/plain": [
              "0.9882629107981221"
            ]
          },
          "metadata": {},
          "execution_count": 118
        }
      ]
    },
    {
      "cell_type": "code",
      "source": [
        "\n",
        "recall4 = recall_score(test_y,y_pred4)\n",
        "print(\"recall:\", recall4)"
      ],
      "metadata": {
        "colab": {
          "base_uri": "https://localhost:8080/"
        },
        "id": "s2ampcwm8gev",
        "outputId": "e3f29578-5d6f-4df2-a13e-1cc87f579305"
      },
      "execution_count": null,
      "outputs": [
        {
          "output_type": "stream",
          "name": "stdout",
          "text": [
            "recall: 0.9038461538461539\n"
          ]
        }
      ]
    },
    {
      "cell_type": "markdown",
      "source": [
        "svm linear"
      ],
      "metadata": {
        "id": "NDyu7dus16Jx"
      }
    },
    {
      "cell_type": "code",
      "source": [
        "from sklearn import svm\n",
        "model5=svm.SVC(kernel='linear')\n",
        "start_time = time.monotonic()\n",
        "model5.fit(train_x,train_y)\n",
        "end_time = time.monotonic()\n",
        "time5= timedelta(seconds=end_time - start_time)\n",
        "print(timedelta(seconds=end_time - start_time))"
      ],
      "metadata": {
        "colab": {
          "base_uri": "https://localhost:8080/"
        },
        "id": "2JPMWAYW17m9",
        "outputId": "28d8e669-8c12-4bd7-bae3-8f3d3c957819"
      },
      "execution_count": null,
      "outputs": [
        {
          "output_type": "stream",
          "name": "stdout",
          "text": [
            "0:00:00.980890\n"
          ]
        }
      ]
    },
    {
      "cell_type": "code",
      "source": [
        "y_pred5=model5.predict(test_x)\n",
        "y_pred55=model5.predict(train_x)\n"
      ],
      "metadata": {
        "id": "dNxXDGMT4ZEZ"
      },
      "execution_count": null,
      "outputs": []
    },
    {
      "cell_type": "code",
      "source": [
        "\n",
        "accuracy_score(test_y,y_pred5)"
      ],
      "metadata": {
        "colab": {
          "base_uri": "https://localhost:8080/"
        },
        "id": "otgmRW8q49qB",
        "outputId": "72559474-4164-40d6-db13-fead4707163b"
      },
      "execution_count": null,
      "outputs": [
        {
          "output_type": "execute_result",
          "data": {
            "text/plain": [
              "0.951048951048951"
            ]
          },
          "metadata": {},
          "execution_count": 122
        }
      ]
    },
    {
      "cell_type": "code",
      "source": [
        "\n",
        "accuracy_score(train_y,y_pred55)"
      ],
      "metadata": {
        "colab": {
          "base_uri": "https://localhost:8080/"
        },
        "id": "VEvoDsVm4qSP",
        "outputId": "3047de1b-3293-4d00-8075-052ffaa68ebb"
      },
      "execution_count": null,
      "outputs": [
        {
          "output_type": "execute_result",
          "data": {
            "text/plain": [
              "0.9694835680751174"
            ]
          },
          "metadata": {},
          "execution_count": 123
        }
      ]
    },
    {
      "cell_type": "code",
      "source": [
        "\n",
        "recall5 = recall_score(test_y,y_pred5)\n",
        "print(\"recall:\", recall5)"
      ],
      "metadata": {
        "colab": {
          "base_uri": "https://localhost:8080/"
        },
        "id": "iGxVieHT8jaf",
        "outputId": "ff7e8536-1007-48a9-c041-803c9da4b70c"
      },
      "execution_count": null,
      "outputs": [
        {
          "output_type": "stream",
          "name": "stdout",
          "text": [
            "recall: 0.9615384615384616\n"
          ]
        }
      ]
    },
    {
      "cell_type": "markdown",
      "source": [
        "svm rbf"
      ],
      "metadata": {
        "id": "IHPNitmP5F5D"
      }
    },
    {
      "cell_type": "code",
      "source": [
        "\n",
        "model6=svm.SVC(kernel='rbf')\n",
        "start_time = time.monotonic()\n",
        "model6.fit(train_x,train_y)\n",
        "end_time = time.monotonic()\n",
        "time6= timedelta(seconds=end_time - start_time)\n",
        "print(timedelta(seconds=end_time - start_time))\n"
      ],
      "metadata": {
        "id": "K_4cPZpt5MnQ",
        "colab": {
          "base_uri": "https://localhost:8080/"
        },
        "outputId": "0a7d983e-941d-4c6c-910b-e8485bdc13da"
      },
      "execution_count": null,
      "outputs": [
        {
          "output_type": "stream",
          "name": "stdout",
          "text": [
            "0:00:00.008233\n"
          ]
        }
      ]
    },
    {
      "cell_type": "code",
      "source": [
        "y_pred6=model6.predict(test_x)\n",
        "y_pred66=model6.predict(train_x)"
      ],
      "metadata": {
        "id": "sTCJ51-8BsUJ"
      },
      "execution_count": null,
      "outputs": []
    },
    {
      "cell_type": "code",
      "source": [
        "\n",
        "accuracy_score(test_y,y_pred6)"
      ],
      "metadata": {
        "colab": {
          "base_uri": "https://localhost:8080/"
        },
        "id": "6091tiwJ5dno",
        "outputId": "179a062c-bff3-4090-cda0-e8ae9b910723"
      },
      "execution_count": null,
      "outputs": [
        {
          "output_type": "execute_result",
          "data": {
            "text/plain": [
              "0.9230769230769231"
            ]
          },
          "metadata": {},
          "execution_count": 127
        }
      ]
    },
    {
      "cell_type": "code",
      "source": [
        "\n",
        "accuracy_score(train_y,y_pred66)"
      ],
      "metadata": {
        "colab": {
          "base_uri": "https://localhost:8080/"
        },
        "id": "VE4u3cqx5f_B",
        "outputId": "55e19587-8d46-49ed-81af-2d53628a6436"
      },
      "execution_count": null,
      "outputs": [
        {
          "output_type": "execute_result",
          "data": {
            "text/plain": [
              "0.9178403755868545"
            ]
          },
          "metadata": {},
          "execution_count": 128
        }
      ]
    },
    {
      "cell_type": "code",
      "source": [
        "\n",
        "recall6 = recall_score(test_y,y_pred6)\n",
        "print(\"recall:\", recall6)"
      ],
      "metadata": {
        "colab": {
          "base_uri": "https://localhost:8080/"
        },
        "id": "n-LxR-Xr8mRY",
        "outputId": "22d58903-9bcc-4a80-cb5e-117cb6dfc22d"
      },
      "execution_count": null,
      "outputs": [
        {
          "output_type": "stream",
          "name": "stdout",
          "text": [
            "recall: 0.8461538461538461\n"
          ]
        }
      ]
    },
    {
      "cell_type": "markdown",
      "source": [
        "svm sigmoid"
      ],
      "metadata": {
        "id": "hI2l7hE85myY"
      }
    },
    {
      "cell_type": "code",
      "source": [
        "\n",
        "model7=svm.SVC(kernel='sigmoid')\n",
        "start_time = time.monotonic()\n",
        "model7.fit(train_x,train_y)\n",
        "end_time = time.monotonic()\n",
        "time7= timedelta(seconds=end_time - start_time)\n",
        "print(timedelta(seconds=end_time - start_time))\n"
      ],
      "metadata": {
        "id": "wLZtaYoI5pTQ",
        "colab": {
          "base_uri": "https://localhost:8080/"
        },
        "outputId": "b60adebb-3929-4fbe-81d1-e3633a6772c3"
      },
      "execution_count": null,
      "outputs": [
        {
          "output_type": "stream",
          "name": "stdout",
          "text": [
            "0:00:00.025912\n"
          ]
        }
      ]
    },
    {
      "cell_type": "code",
      "source": [
        "y_pred7=model7.predict(test_x)\n",
        "y_pred77=model7.predict(train_x)"
      ],
      "metadata": {
        "id": "SzvdgoJbB22d"
      },
      "execution_count": null,
      "outputs": []
    },
    {
      "cell_type": "code",
      "source": [
        "\n",
        "accuracy_score(test_y,y_pred7)"
      ],
      "metadata": {
        "colab": {
          "base_uri": "https://localhost:8080/"
        },
        "id": "oF-H17c46M4A",
        "outputId": "94453fd6-4ac3-44e9-b9bc-33cddf5eed30"
      },
      "execution_count": null,
      "outputs": [
        {
          "output_type": "execute_result",
          "data": {
            "text/plain": [
              "0.44755244755244755"
            ]
          },
          "metadata": {},
          "execution_count": 132
        }
      ]
    },
    {
      "cell_type": "code",
      "source": [
        "\n",
        "accuracy_score(train_y,y_pred77)"
      ],
      "metadata": {
        "colab": {
          "base_uri": "https://localhost:8080/"
        },
        "id": "x8xa1rxO6Q5h",
        "outputId": "a4f37bf7-7e7e-4c2b-9471-1138f0f437ec"
      },
      "execution_count": null,
      "outputs": [
        {
          "output_type": "execute_result",
          "data": {
            "text/plain": [
              "0.43661971830985913"
            ]
          },
          "metadata": {},
          "execution_count": 133
        }
      ]
    },
    {
      "cell_type": "code",
      "source": [
        "\n",
        "recall7 = recall_score(test_y,y_pred7)\n",
        "print(\"recall:\", recall7)\n"
      ],
      "metadata": {
        "colab": {
          "base_uri": "https://localhost:8080/"
        },
        "id": "rYlbggI38qCv",
        "outputId": "4f189108-3067-40e0-a798-e67701d24e5d"
      },
      "execution_count": null,
      "outputs": [
        {
          "output_type": "stream",
          "name": "stdout",
          "text": [
            "recall: 0.17307692307692307\n"
          ]
        }
      ]
    },
    {
      "cell_type": "markdown",
      "source": [
        "svm poly"
      ],
      "metadata": {
        "id": "ife6ZGTq6ahv"
      }
    },
    {
      "cell_type": "code",
      "source": [
        "\n",
        "model8=svm.SVC(kernel='poly')\n",
        "start_time = time.monotonic()\n",
        "model8.fit(train_x,train_y)\n",
        "end_time = time.monotonic()\n",
        "time8= timedelta(seconds=end_time - start_time)\n",
        "print(timedelta(seconds=end_time - start_time))"
      ],
      "metadata": {
        "id": "zaK_hFcd6cT_",
        "colab": {
          "base_uri": "https://localhost:8080/"
        },
        "outputId": "bec9ebc6-9fb2-4020-9fb2-71439a5528aa"
      },
      "execution_count": null,
      "outputs": [
        {
          "output_type": "stream",
          "name": "stdout",
          "text": [
            "0:00:00.006568\n"
          ]
        }
      ]
    },
    {
      "cell_type": "code",
      "source": [
        "y_pred8=model8.predict(test_x)\n",
        "y_pred88=model8.predict(train_x)"
      ],
      "metadata": {
        "id": "AQfVAdReB8JZ"
      },
      "execution_count": null,
      "outputs": []
    },
    {
      "cell_type": "code",
      "source": [
        "\n",
        "accuracy_score(test_y,y_pred8)"
      ],
      "metadata": {
        "colab": {
          "base_uri": "https://localhost:8080/"
        },
        "id": "MwdgBur26gwU",
        "outputId": "aecf5ec8-9e58-4308-b33b-e3a493b762c6"
      },
      "execution_count": null,
      "outputs": [
        {
          "output_type": "execute_result",
          "data": {
            "text/plain": [
              "0.9020979020979021"
            ]
          },
          "metadata": {},
          "execution_count": 137
        }
      ]
    },
    {
      "cell_type": "code",
      "source": [
        "\n",
        "accuracy_score(train_y,y_pred88)"
      ],
      "metadata": {
        "colab": {
          "base_uri": "https://localhost:8080/"
        },
        "id": "VhQ9PEBz6ivI",
        "outputId": "3ef62ef9-7f3d-4582-8b40-397f4fef6337"
      },
      "execution_count": null,
      "outputs": [
        {
          "output_type": "execute_result",
          "data": {
            "text/plain": [
              "0.9131455399061033"
            ]
          },
          "metadata": {},
          "execution_count": 138
        }
      ]
    },
    {
      "cell_type": "code",
      "source": [
        "\n",
        "recall8 = recall_score(test_y,y_pred8)\n",
        "print(\"recall:\", recall8)"
      ],
      "metadata": {
        "colab": {
          "base_uri": "https://localhost:8080/"
        },
        "id": "bDAqxmAb8xai",
        "outputId": "638d49fe-3d7c-49c9-bfb0-9fc45a739803"
      },
      "execution_count": null,
      "outputs": [
        {
          "output_type": "stream",
          "name": "stdout",
          "text": [
            "recall: 0.7884615384615384\n"
          ]
        }
      ]
    },
    {
      "cell_type": "markdown",
      "source": [
        "knn, k=7"
      ],
      "metadata": {
        "id": "t-pbsd2Rk159"
      }
    },
    {
      "cell_type": "code",
      "source": [
        "modelk7 = KNeighborsClassifier(n_neighbors=7)\n",
        "start_time = time.monotonic()\n",
        "modelk7= modelk7.fit(train_x,train_y)\n",
        "end_time = time.monotonic()\n",
        "y_predk7=modelk7.predict(test_x)\n",
        "y_predk77=modelk7.predict(train_x)\n",
        "print(\"acc=\",accuracy_score(test_y,y_predk7))\n",
        "print(\"precision=\",precision_score(test_y,y_predk7))\n",
        "print(\"recall=\",recall_score(test_y,y_predk7))\n",
        "timek7=timedelta(seconds=end_time - start_time)\n",
        "print(\"time=\",timedelta(seconds=end_time - start_time))\n",
        "print(\"f1=\",f1_score(test_y,y_predk7))"
      ],
      "metadata": {
        "colab": {
          "base_uri": "https://localhost:8080/"
        },
        "id": "bCOYWwJ6lKbV",
        "outputId": "dcdb76f3-c2c9-4051-f106-7087282ec982"
      },
      "execution_count": null,
      "outputs": [
        {
          "output_type": "stream",
          "name": "stdout",
          "text": [
            "acc= 0.9300699300699301\n",
            "precision= 0.9038461538461539\n",
            "recall= 0.9038461538461539\n",
            "time= 0:00:00.002079\n",
            "f1= 0.9038461538461539\n"
          ]
        }
      ]
    },
    {
      "cell_type": "code",
      "source": [
        "from prettytable import PrettyTable\n",
        "table= PrettyTable([\"model\",\"train_acc\",\"test_acc\",\"recall\",\"precision\",\"f1\",\"time\"])\n",
        "table.add_row([\"random forest\",accuracy_score(train_y,y_pred11),accuracy_score(test_y,y_pred1),recall1,precision_score(test_y,y_pred1),f1_score(test_y,y_pred1),time1])\n",
        "table.add_row([\"decision tree\",accuracy_score(train_y,y_pred22),accuracy_score(test_y,y_pred2),recall2,precision_score(test_y,y_pred2),f1_score(test_y,y_pred2),time2])\n",
        "table.add_row([\"logistic reg\",accuracy_score(train_y,y_pred33),accuracy_score(test_y,y_pred3),recall3,precision_score(test_y,y_pred3),f1_score(test_y,y_pred3),time3])\n",
        "table.add_row([\"boosting\",accuracy_score(train_y,y_pred44),accuracy_score(test_y,y_pred4),recall4,precision_score(test_y,y_pred4),f1_score(test_y,y_pred4),time4])\n",
        "table.add_row([\"svm linear\",accuracy_score(train_y,y_pred55),accuracy_score(test_y,y_pred5),recall5,precision_score(test_y,y_pred5),f1_score(test_y,y_pred5),time5])\n",
        "table.add_row([\"svm rbf\",accuracy_score(train_y,y_pred66),accuracy_score(test_y,y_pred6),recall6,precision_score(test_y,y_pred6),f1_score(test_y,y_pred6),time6])\n",
        "table.add_row([\"svm sigmoid\",accuracy_score(train_y,y_pred77),accuracy_score(test_y,y_pred7),recall7,precision_score(test_y,y_pred7),f1_score(test_y,y_pred7),time7])\n",
        "table.add_row([\"svm poly\",accuracy_score(train_y,y_pred88),accuracy_score(test_y,y_pred8),recall8,precision_score(test_y,y_pred8),f1_score(test_y,y_pred8),time8])\n",
        "table.add_row([\"KNN\",accuracy_score(train_y,y_predk77),accuracy_score(test_y,y_predk7),recall_score(test_y,y_predk7),precision_score(test_y,y_predk7),f1_score(test_y,y_predk7),timek7])\n",
        "print(table)"
      ],
      "metadata": {
        "colab": {
          "base_uri": "https://localhost:8080/"
        },
        "id": "pBNLqpMU88Zo",
        "outputId": "9bd0ac5e-c97a-415e-dcbc-df44557f1771"
      },
      "execution_count": null,
      "outputs": [
        {
          "output_type": "stream",
          "name": "stdout",
          "text": [
            "+---------------+---------------------+---------------------+---------------------+--------------------+---------------------+----------------+\n",
            "|     model     |      train_acc      |       test_acc      |        recall       |     precision      |          f1         |      time      |\n",
            "+---------------+---------------------+---------------------+---------------------+--------------------+---------------------+----------------+\n",
            "| random forest |  0.9859154929577465 |  0.951048951048951  |  0.9423076923076923 | 0.9245283018867925 |  0.9333333333333333 | 0:00:00.020318 |\n",
            "| decision tree |         1.0         |  0.9230769230769231 |  0.9423076923076923 | 0.8596491228070176 |  0.8990825688073394 | 0:00:00.010129 |\n",
            "|  logistic reg |  0.9507042253521126 |  0.9300699300699301 |  0.9230769230769231 | 0.8888888888888888 |  0.9056603773584906 | 0:00:00.062860 |\n",
            "|    boosting   |  0.9882629107981221 |  0.951048951048951  |  0.9038461538461539 | 0.9591836734693877 |  0.9306930693069307 | 0:00:00.063923 |\n",
            "|   svm linear  |  0.9694835680751174 |  0.951048951048951  |  0.9615384615384616 | 0.9090909090909091 |  0.9345794392523366 | 0:00:00.980890 |\n",
            "|    svm rbf    |  0.9178403755868545 |  0.9230769230769231 |  0.8461538461538461 | 0.9361702127659575 |  0.8888888888888888 | 0:00:00.008233 |\n",
            "|  svm sigmoid  | 0.43661971830985913 | 0.44755244755244755 | 0.17307692307692307 |        0.2         | 0.18556701030927836 | 0:00:00.025912 |\n",
            "|    svm poly   |  0.9131455399061033 |  0.9020979020979021 |  0.7884615384615384 | 0.9318181818181818 |  0.8541666666666667 | 0:00:00.006568 |\n",
            "|      KNN      |  0.9460093896713615 |  0.9300699300699301 |  0.9038461538461539 | 0.9038461538461539 |  0.9038461538461539 | 0:00:00.002079 |\n",
            "+---------------+---------------------+---------------------+---------------------+--------------------+---------------------+----------------+\n"
          ]
        }
      ]
    },
    {
      "cell_type": "code",
      "source": [],
      "metadata": {
        "id": "efl5OFfDL9OJ"
      },
      "execution_count": null,
      "outputs": []
    }
  ]
}